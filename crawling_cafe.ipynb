{
 "cells": [
  {
   "cell_type": "code",
   "execution_count": 152,
   "id": "95046339",
   "metadata": {},
   "outputs": [],
   "source": [
    "import pandas as pd\n",
    "import os\n",
    "import re\n",
    "import requests\n",
    "from selenium import webdriver\n",
    "from bs4 import BeautifulSoup as bs\n",
    "import time\n",
    "import tqdm"
   ]
  },
  {
   "cell_type": "code",
   "execution_count": 167,
   "id": "92b1a232",
   "metadata": {},
   "outputs": [
    {
     "name": "stderr",
     "output_type": "stream",
     "text": [
      "/Users/gunwook/opt/anaconda3/envs/gunwook/lib/python3.7/site-packages/ipykernel_launcher.py:1: DeprecationWarning: executable_path has been deprecated, please pass in a Service object\n",
      "  \"\"\"Entry point for launching an IPython kernel.\n"
     ]
    }
   ],
   "source": [
    "driver = webdriver.Chrome('./chromedriver')"
   ]
  },
  {
   "cell_type": "code",
   "execution_count": 168,
   "id": "bbd63373",
   "metadata": {},
   "outputs": [],
   "source": [
    "# 여기서 무조건 로그인 해야함. \n",
    "driver.get('https://nid.naver.com/nidlogin.login?svctype=262144&url=http://naver.com/')"
   ]
  },
  {
   "cell_type": "code",
   "execution_count": 156,
   "id": "84c17553",
   "metadata": {},
   "outputs": [
    {
     "name": "stderr",
     "output_type": "stream",
     "text": [
      "/Users/gunwook/opt/anaconda3/envs/gunwook/lib/python3.7/site-packages/ipykernel_launcher.py:1: DeprecationWarning: find_element_by_* commands are deprecated. Please use find_element() instead\n",
      "  \"\"\"Entry point for launching an IPython kernel.\n"
     ]
    }
   ],
   "source": [
    "driver.find_element_by_xpath('//*[@id=\"menuLink0\"]').click()"
   ]
  },
  {
   "cell_type": "code",
   "execution_count": 157,
   "id": "b5a702de",
   "metadata": {},
   "outputs": [],
   "source": [
    "def crawl_mbti_data():\n",
    "    pg = str(0)\n",
    "    \n",
    "    for i in tqdm.tqdm(range(1, 1000)):\n",
    "        pg = str(i)\n",
    "        tmp_df = pd.DataFrame()\n",
    "        tmp_category = []\n",
    "        tmp_writer = []\n",
    "        tmp_title = []\n",
    "        tmp_link = []\n",
    "        \n",
    "        addr = \"https://cafe.naver.com/ArticleList.nhn?search.clubid=11856775&userDisplay=50&search.boardtype=L&search.specialmenutype=&search.totalCount=501&search.cafeId=11856775&search.page=\" + pg            \n",
    "\n",
    "        driver.get(addr)\n",
    "        driver.switch_to.frame('cafe_main')\n",
    "        \n",
    "        html = driver.page_source\n",
    "\n",
    "        soup = bs(html, 'html.parser')\n",
    "        \n",
    "        a_category_list = soup.findAll(\"div\", {\"class\": \"inner_name\"})\n",
    "        a_title_list = soup.findAll(\"a\",{\"class\":\"article\"})\n",
    "        a_writer_list = soup.findAll(\"a\",{\"class\":\"m-tcol-c\"}) \n",
    "        \n",
    "        if pg == '1':\n",
    "            a_title_list = a_title_list[16:]\n",
    "            a_writer_list = a_writer_list[16:]\n",
    "            \n",
    "        for j in range(0, len(a_title_list)):\n",
    "            tmp_writer.append(a_writer_list[j].text.strip())\n",
    "            tmp_title.append(a_title_list[j].text.strip())\n",
    "            tmp_category.append(a_category_list[j].text.strip())\n",
    "            tmp_link.append(\"https://cafe.naver.com/mbticafe\" + a_title_list[j].get('href').strip())\n",
    "        \n",
    "        tmp_df['category'] = tmp_category\n",
    "        tmp_df['title'] = tmp_title\n",
    "        tmp_df['writer'] = tmp_writer\n",
    "        tmp_df['link'] = tmp_link\n",
    "        \n",
    "        tmp_df.to_csv(f'./crawl_data/crawl_res_{i}.csv', index=False)\n",
    "            \n",
    "            "
   ]
  },
  {
   "cell_type": "code",
   "execution_count": 149,
   "id": "1af916c7",
   "metadata": {},
   "outputs": [
    {
     "name": "stderr",
     "output_type": "stream",
     "text": [
      "100%|████████████████████████████████| 999/999 [17:30<00:00,  1.05s/it]\n"
     ]
    }
   ],
   "source": [
    "crawl_mbti_data()"
   ]
  },
  {
   "cell_type": "code",
   "execution_count": 150,
   "id": "a9fa72e7",
   "metadata": {},
   "outputs": [],
   "source": [
    "def crawl_article(path):\n",
    "    file_list = os.listdir(path)\n",
    "    for file in tqdm.tqdm(file_list):\n",
    "        file_num = file.split('.')[0].split('_')[-1]\n",
    "        df = pd.read_csv(path + '/' + file)\n",
    "        tmp_df = pd.DataFrame()\n",
    "        \n",
    "        row_len = len(df['category'])\n",
    "        tmp_article = []\n",
    "        tmp_category = []\n",
    "        tmp_writer = []\n",
    "        tmp_title = []\n",
    "        tmp_link = []\n",
    "        for r_idx in range(0, row_len):\n",
    "            try:\n",
    "                row = df.iloc[r_idx]\n",
    "                if row['category'] == '가입 인사 (등업 필수)':\n",
    "                    continue\n",
    "\n",
    "                driver.get(row['link'])\n",
    "                driver.switch_to.frame('cafe_main')\n",
    "                html = driver.page_source\n",
    "                soup = bs(html, 'html.parser')\n",
    "                article = soup.findAll(\"div\", {\"class\": \"tbody m-tcol-c\"})[0].text.replace('\\u200b', ' ').replace('\\n','').strip()\n",
    "                if article.strip() == '':\n",
    "                    continue\n",
    "\n",
    "                tmp_article.append(article)\n",
    "                tmp_category.append(row['category'])\n",
    "                tmp_writer.append(row['writer'])\n",
    "                tmp_link.append(row['link'])\n",
    "                tmp_title.append(row['title'])\n",
    "            except:\n",
    "                continue\n",
    "        \n",
    "        tmp_df['category'] = tmp_category\n",
    "        tmp_df['title'] = tmp_title\n",
    "        tmp_df['writer'] = tmp_writer\n",
    "        tmp_df['link'] = tmp_link\n",
    "        tmp_df['article'] = tmp_article\n",
    "        \n",
    "        tmp_df.to_csv(f'./crawl_data/crawl_res_{file_num}_fin.csv', index=False)\n",
    "                \n",
    "            "
   ]
  },
  {
   "cell_type": "code",
   "execution_count": 151,
   "id": "1bae640e",
   "metadata": {},
   "outputs": [
    {
     "name": "stderr",
     "output_type": "stream",
     "text": [
      "0it [00:00, ?it/s]\n"
     ]
    }
   ],
   "source": [
    "path = '/Users/gunwook/Desktop/git_folder/mbti_prediction/crawl/crawl_data'\n",
    "crawl_article(path)"
   ]
  },
  {
   "cell_type": "code",
   "execution_count": null,
   "id": "829a2ad0",
   "metadata": {},
   "outputs": [],
   "source": []
  }
 ],
 "metadata": {
  "kernelspec": {
   "display_name": "Python 3.7.11 64-bit ('gunwook': conda)",
   "language": "python",
   "name": "python3711jvsc74a57bd0f7f080c4f1981ec4c1f51b4ab452083a5b427b6c9fa4fd50211c696f2181f065"
  },
  "language_info": {
   "codemirror_mode": {
    "name": "ipython",
    "version": 3
   },
   "file_extension": ".py",
   "mimetype": "text/x-python",
   "name": "python",
   "nbconvert_exporter": "python",
   "pygments_lexer": "ipython3",
   "version": "3.7.11"
  }
 },
 "nbformat": 4,
 "nbformat_minor": 5
}
